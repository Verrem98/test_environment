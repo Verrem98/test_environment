{
 "cells": [
  {
   "cell_type": "code",
   "execution_count": 1,
   "metadata": {
    "pycharm": {
     "is_executing": true
    }
   },
   "outputs": [],
   "source": [
    "import pandas as pd"
   ]
  },
  {
   "cell_type": "code",
   "execution_count": 3,
   "metadata": {},
   "outputs": [],
   "source": [
    "df = pd.read_csv('Kruispunt_simulate_v2.csv')"
   ]
  },
  {
   "cell_type": "code",
   "execution_count": 4,
   "metadata": {},
   "outputs": [
    {
     "data": {
      "text/html": [
       "<div>\n",
       "<style scoped>\n",
       "    .dataframe tbody tr th:only-of-type {\n",
       "        vertical-align: middle;\n",
       "    }\n",
       "\n",
       "    .dataframe tbody tr th {\n",
       "        vertical-align: top;\n",
       "    }\n",
       "\n",
       "    .dataframe thead th {\n",
       "        text-align: right;\n",
       "    }\n",
       "</style>\n",
       "<table border=\"1\" class=\"dataframe\">\n",
       "  <thead>\n",
       "    <tr style=\"text-align: right;\">\n",
       "      <th></th>\n",
       "      <th>Unnamed: 0</th>\n",
       "      <th>cars_1</th>\n",
       "      <th>cars_2</th>\n",
       "      <th>busses_1</th>\n",
       "      <th>busses_2</th>\n",
       "      <th>cars_median_1</th>\n",
       "      <th>cars_median_2</th>\n",
       "      <th>busses_median_1</th>\n",
       "      <th>busses_median_2</th>\n",
       "      <th>cars_std_1</th>\n",
       "      <th>cars_std_2</th>\n",
       "      <th>busses_std_1</th>\n",
       "      <th>busses_std_2</th>\n",
       "      <th>car_max_wait_1</th>\n",
       "      <th>car_max_wait_2</th>\n",
       "      <th>bus_max_wait_1</th>\n",
       "      <th>bus_max_wait_2</th>\n",
       "      <th>bus_weight</th>\n",
       "      <th>Run</th>\n",
       "    </tr>\n",
       "  </thead>\n",
       "  <tbody>\n",
       "    <tr>\n",
       "      <th>0</th>\n",
       "      <td>0</td>\n",
       "      <td>29.87</td>\n",
       "      <td>38.23</td>\n",
       "      <td>65.52</td>\n",
       "      <td>13.09</td>\n",
       "      <td>21</td>\n",
       "      <td>31</td>\n",
       "      <td>55</td>\n",
       "      <td>5</td>\n",
       "      <td>32.63</td>\n",
       "      <td>15.05</td>\n",
       "      <td>32.63</td>\n",
       "      <td>15.05</td>\n",
       "      <td>185</td>\n",
       "      <td>183</td>\n",
       "      <td>134</td>\n",
       "      <td>43</td>\n",
       "      <td>1</td>\n",
       "      <td>1</td>\n",
       "    </tr>\n",
       "    <tr>\n",
       "      <th>1</th>\n",
       "      <td>1</td>\n",
       "      <td>30.08</td>\n",
       "      <td>36.85</td>\n",
       "      <td>48.39</td>\n",
       "      <td>16.57</td>\n",
       "      <td>22</td>\n",
       "      <td>30</td>\n",
       "      <td>53</td>\n",
       "      <td>11</td>\n",
       "      <td>32.67</td>\n",
       "      <td>17.00</td>\n",
       "      <td>32.67</td>\n",
       "      <td>17.00</td>\n",
       "      <td>194</td>\n",
       "      <td>183</td>\n",
       "      <td>97</td>\n",
       "      <td>44</td>\n",
       "      <td>5</td>\n",
       "      <td>2</td>\n",
       "    </tr>\n",
       "    <tr>\n",
       "      <th>2</th>\n",
       "      <td>2</td>\n",
       "      <td>30.27</td>\n",
       "      <td>37.55</td>\n",
       "      <td>35.57</td>\n",
       "      <td>8.09</td>\n",
       "      <td>22</td>\n",
       "      <td>31</td>\n",
       "      <td>36</td>\n",
       "      <td>0</td>\n",
       "      <td>32.85</td>\n",
       "      <td>13.57</td>\n",
       "      <td>32.85</td>\n",
       "      <td>13.57</td>\n",
       "      <td>211</td>\n",
       "      <td>177</td>\n",
       "      <td>94</td>\n",
       "      <td>41</td>\n",
       "      <td>10</td>\n",
       "      <td>3</td>\n",
       "    </tr>\n",
       "  </tbody>\n",
       "</table>\n",
       "</div>"
      ],
      "text/plain": [
       "   Unnamed: 0  cars_1  cars_2  busses_1  busses_2  cars_median_1  \\\n",
       "0           0   29.87   38.23     65.52     13.09             21   \n",
       "1           1   30.08   36.85     48.39     16.57             22   \n",
       "2           2   30.27   37.55     35.57      8.09             22   \n",
       "\n",
       "   cars_median_2  busses_median_1  busses_median_2  cars_std_1  cars_std_2  \\\n",
       "0             31               55                5       32.63       15.05   \n",
       "1             30               53               11       32.67       17.00   \n",
       "2             31               36                0       32.85       13.57   \n",
       "\n",
       "   busses_std_1  busses_std_2  car_max_wait_1  car_max_wait_2  bus_max_wait_1  \\\n",
       "0         32.63         15.05             185             183             134   \n",
       "1         32.67         17.00             194             183              97   \n",
       "2         32.85         13.57             211             177              94   \n",
       "\n",
       "   bus_max_wait_2  bus_weight  Run  \n",
       "0              43           1    1  \n",
       "1              44           5    2  \n",
       "2              41          10    3  "
      ]
     },
     "execution_count": 4,
     "metadata": {},
     "output_type": "execute_result"
    }
   ],
   "source": [
    "df"
   ]
  },
  {
   "cell_type": "code",
   "execution_count": 69,
   "metadata": {},
   "outputs": [
    {
     "data": {
      "text/plain": [
       "([185, 134, 183, 43], [194, 97, 183, 44])"
      ]
     },
     "execution_count": 69,
     "metadata": {},
     "output_type": "execute_result"
    }
   ],
   "source": [
    "y1 = list(df[['car_max_wait_1','bus_max_wait_1', 'car_max_wait_2', 'bus_max_wait_2']].loc[0])\n",
    "y2 = list(df[['car_max_wait_1','bus_max_wait_1', 'car_max_wait_2', 'bus_max_wait_2']].loc[1])\n",
    "\n",
    "y1,y2"
   ]
  },
  {
   "cell_type": "code",
   "execution_count": 62,
   "metadata": {},
   "outputs": [
    {
     "data": {
      "image/png": "[encoded data removed]",
      "text/plain": [
       "<Figure size 432x288 with 1 Axes>"
      ]
     },
     "metadata": {
      "needs_background": "light"
     },
     "output_type": "display_data"
    }
   ],
   "source": [
    "\n",
    "# importing package\n",
    "import matplotlib.pyplot as plt\n",
    "import numpy as np\n",
    "  \n",
    "# create data\n",
    "x = np.arange(4)\n",
    "y1 = list(df[['cars_1','busses_1', 'cars_2', 'busses_2']].loc[0])\n",
    "y2 = list(df[['cars_1','busses_1', 'cars_2', 'busses_2']].loc[1])\n",
    "y3 = list(df[['cars_1','busses_1', 'cars_2', 'busses_2']].loc[2])\n",
    "width = 0.2\n",
    "  \n",
    "# plot data in grouped manner of bar type\n",
    "plt.bar(x-width, y1, width, color='#99ccff')\n",
    "plt.bar(x, y2, width, color='#ffcc99')\n",
    "plt.bar(x+width, y3, width, color='#ff9999')\n",
    "plt.xticks(x, ['Car 1', 'Bus 1', 'Car 2', 'Bus 2'])\n",
    "plt.xlabel(\"Vehicles\")\n",
    "plt.ylabel(\"Wait time in seconds\")\n",
    "plt.legend([\"W_1\", \"W_5\", \"W_10\"])\n",
    "plt.title('Mean wait time per vehicle')\n",
    "plt.show()"
   ]
  },
  {
   "cell_type": "code",
   "execution_count": 71,
   "metadata": {},
   "outputs": [
    {
     "data": {
      "image/png": "[encoded data removed]",
      "text/plain": [
       "<Figure size 432x288 with 1 Axes>"
      ]
     },
     "metadata": {
      "needs_background": "light"
     },
     "output_type": "display_data"
    }
   ],
   "source": [
    "\n",
    "# importing package\n",
    "import matplotlib.pyplot as plt\n",
    "import numpy as np\n",
    "  \n",
    "# create data\n",
    "x = np.arange(4)\n",
    "y1 = list(df[['car_max_wait_1','bus_max_wait_1', 'car_max_wait_2', 'bus_max_wait_2']].loc[0])\n",
    "y2 = list(df[['car_max_wait_1','bus_max_wait_1', 'car_max_wait_2', 'bus_max_wait_2']].loc[1])\n",
    "y3 = list(df[['car_max_wait_1','bus_max_wait_1', 'car_max_wait_2', 'bus_max_wait_2']].loc[2])\n",
    "width = 0.2\n",
    "  \n",
    "# plot data in grouped manner of bar type\n",
    "plt.bar(x-width, y1, width, color='#99ccff')\n",
    "plt.bar(x, y2, width, color='#ffcc99')\n",
    "plt.bar(x+width, y3, width, color='#ff9999')\n",
    "plt.xticks(x, ['Car 1', 'Bus 1', 'Car 2', 'Bus 2'])\n",
    "plt.xlabel(\"Vehicles\")\n",
    "plt.ylabel(\"Wait time in seconds\")\n",
    "plt.legend([\"W_1\", \"W_5\", \"W_10\"])\n",
    "plt.title('Max wait time per vehicle')\n",
    "plt.show()"
   ]
  },
  {
   "cell_type": "code",
   "execution_count": 75,
   "metadata": {},
   "outputs": [
    {
     "data": {
      "image/png": "[encoded data removed]",
      "text/plain": [
       "<Figure size 432x288 with 1 Axes>"
      ]
     },
     "metadata": {
      "needs_background": "light"
     },
     "output_type": "display_data"
    }
   ],
   "source": [
    "## # importing package\n",
    "import matplotlib.pyplot as plt\n",
    "import numpy as np\n",
    "  \n",
    "# create data\n",
    "x = np.arange(1)\n",
    "y1 = list(df[['cars_2']].loc[0])\n",
    "y2 = list(df[['cars_2']].loc[1])\n",
    "y3 = list(df[['cars_2']].loc[2])\n",
    "width = 0.2\n",
    "  \n",
    "# plot data in grouped manner of bar type\n",
    "plt.bar(x-width, y1, width, color='#99ccff')\n",
    "plt.bar(x, y2, width, color='#ffcc99')\n",
    "plt.bar(x+width, y3, width, color='#ff9999')\n",
    "plt.xticks(x, ['Car 2'])\n",
    "plt.xlabel(\"Vehicles\")\n",
    "plt.ylabel(\"Wait time in seconds\")\n",
    "plt.legend([\"W_1\", \"W_5\", \"W_10\"])\n",
    "plt.title('Mean wait time per vehicle')\n",
    "plt.show()"
   ]
  }
 ],
 "metadata": {
  "kernelspec": {
   "display_name": "Python 3",
   "language": "python",
   "name": "python3"
  },
  "language_info": {
   "codemirror_mode": {
    "name": "ipython",
    "version": 3
   },
   "file_extension": ".py",
   "mimetype": "text/x-python",
   "name": "python",
   "nbconvert_exporter": "python",
   "pygments_lexer": "ipython3",
   "version": "3.8.8"
  }
 },
 "nbformat": 4,
 "nbformat_minor": 1
}